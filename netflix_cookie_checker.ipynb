{
  "nbformat": 4,
  "nbformat_minor": 0,
  "metadata": {
    "colab": {
      "provenance": [],
      "authorship_tag": "ABX9TyPZv82y3+w+/F4FhiYoNN4V",
      "include_colab_link": true
    },
    "kernelspec": {
      "name": "python3",
      "display_name": "Python 3"
    },
    "language_info": {
      "name": "python"
    }
  },
  "cells": [
    {
      "cell_type": "markdown",
      "metadata": {
        "id": "view-in-github",
        "colab_type": "text"
      },
      "source": [
        "<a href=\"https://colab.research.google.com/github/culturecloud/netflix-cookie-checker/blob/master/netflix_cookie_checker.ipynb\" target=\"_parent\"><img src=\"https://colab.research.google.com/assets/colab-badge.svg\" alt=\"Open In Colab\"/></a>"
      ]
    },
    {
      "cell_type": "code",
      "execution_count": null,
      "metadata": {
        "id": "fuuvYZ_MDCuw"
      },
      "outputs": [],
      "source": [
        "# @title 1 => Update Colab\n",
        "!apt-get -y update && \\\n",
        "  apt-get -y upgrade"
      ]
    },
    {
      "cell_type": "code",
      "source": [
        "# @title 2 => Install Dependencies\n",
        "!apt-get install -y --upgrade \\\n",
        "  curl git unzip wget \\\n",
        "  bzip2 libxtst6 libgtk-3-0 \\\n",
        "  libx11-xcb-dev libdbus-glib-1-2 \\\n",
        "  libxt6 libpci-dev"
      ],
      "metadata": {
        "id": "zoz5wsnKEU6x"
      },
      "execution_count": null,
      "outputs": []
    },
    {
      "cell_type": "code",
      "source": [
        "# @title 3 => Install Firefox\n",
        "!wget \"https://download.mozilla.org/?product=firefox-latest&os=linux64\" \\\n",
        "  -O firefox.tar.bz2 && \\\n",
        "  rm -rf /opt/firefox/ && \\\n",
        "  tar -xjf firefox.tar.bz2 -C /opt/ && \\\n",
        "  ln -sf /opt/firefox/firefox /usr/local/bin/firefox && \\\n",
        "  rm *.tar.bz2"
      ],
      "metadata": {
        "id": "0OnEk8k_RZKe"
      },
      "execution_count": null,
      "outputs": []
    },
    {
      "cell_type": "code",
      "source": [
        "# @title 4 => Install Selenium\n",
        "!pip install --upgrade selenium==4.14.0"
      ],
      "metadata": {
        "id": "uN_c5wUxIPNw"
      },
      "execution_count": null,
      "outputs": []
    },
    {
      "cell_type": "code",
      "source": [
        "# @title 5 => Clone Repo\n",
        "%cd /content\n",
        "!if [ -d \"NCC\" ]; then \\\n",
        "    cd NCC && \\\n",
        "    git pull --ff-only origin master; \\\n",
        "  else \\\n",
        "    git clone https://github.com/culturecloud/netflix-cookie-checker NCC; \\\n",
        "  fi\n",
        "%cd /content/NCC"
      ],
      "metadata": {
        "id": "p8iaEd5tEykU"
      },
      "execution_count": null,
      "outputs": []
    },
    {
      "cell_type": "code",
      "source": [
        "# @title 6 => Install Geckodriver\n",
        "!wget https://github.com/mozilla/geckodriver/releases/download/v0.33.0/geckodriver-v0.33.0-linux64.tar.gz && \\\n",
        "  tar -xvzf geckodriver-v0.33.0-linux64.tar.gz && \\\n",
        "  rm *.tar.gz"
      ],
      "metadata": {
        "id": "bK4jiw2lG9Wv"
      },
      "execution_count": null,
      "outputs": []
    },
    {
      "cell_type": "code",
      "source": [
        "# @title 7 => Download & Extract cookies.zip\n",
        "\n",
        "cookies_zip_url = \"https://dl.culturecloud.eu.org/198/cookies.zip?hash=50a484\" # @param {'type':'string'}\n",
        "\n",
        "!wget {cookies_zip_url} \\\n",
        "  -O cookies.zip && \\\n",
        "  unzip -d cookies -u cookies.zip"
      ],
      "metadata": {
        "id": "wrTQ-fibI-gn"
      },
      "execution_count": null,
      "outputs": []
    },
    {
      "cell_type": "code",
      "source": [
        "# @title 8 => Convert Netscape Cookies to JSON\n",
        "!python3 cookie_converter.py"
      ],
      "metadata": {
        "id": "PITw_r4KAk2M"
      },
      "execution_count": null,
      "outputs": []
    },
    {
      "cell_type": "code",
      "source": [
        "# @title 9 => Run Checker\n",
        "!python3 main.py"
      ],
      "metadata": {
        "id": "DZXVJeLCPWAS"
      },
      "execution_count": null,
      "outputs": []
    },
    {
      "cell_type": "code",
      "source": [
        "# @title 10 => Clean Directories\n",
        "%cd /content/NCC\n",
        "!rm -rf cookies \\\n",
        "  json_cookies \\\n",
        "  working_cookies \\\n",
        "  invalid_cookies"
      ],
      "metadata": {
        "id": "g3Fj8n7xER5r"
      },
      "execution_count": null,
      "outputs": []
    }
  ]
}